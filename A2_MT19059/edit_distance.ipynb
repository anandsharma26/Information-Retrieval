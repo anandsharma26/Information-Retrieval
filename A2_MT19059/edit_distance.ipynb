{
 "cells": [
  {
   "cell_type": "code",
   "execution_count": 8,
   "metadata": {},
   "outputs": [
    {
     "name": "stdout",
     "output_type": "stream",
     "text": [
      "65197\n",
      "Enter the query foo\n",
      "enter the value of k 10\n",
      "['foo']\n",
      "['food', 'fool', 'foot', 'afoot', 'flood', 'floor', 'folio', 'foods', 'fools', 'forgo']\n"
     ]
    }
   ],
   "source": [
    "import itertools\n",
    "import operator\n",
    "with open('/home/anand/Desktop/Desktop/IR_ASSIGNMENT/Assignment2_IR/english2.txt') as f:\n",
    "    lines=f.read().splitlines()\n",
    "    #print(lines)\n",
    "    print(len(lines))\n",
    "\n",
    "\n",
    "#Naive edit_distance using Recursion\n",
    "def edit_distance1(a,b,m,n):\n",
    "    if n==0:\n",
    "        return m*2\n",
    "    elif m==0:\n",
    "        return n\n",
    "    elif (a[m-1] == b[n-1]):\n",
    "        return edit_distance(a,b,m-1,n-1)\n",
    "    else :\n",
    "        return min(1+edit_distance(a,b,m-1,n),2+edit_distance(a,b,m,n-1),3+edit_distance(a,b,m-1,n-1))\n",
    "    \n",
    "\n",
    "def edit_distance(a,b,m,n):\n",
    "    dp= [[0 for x in range(n + 1)] for x in range(m + 1)]\n",
    "    for i in range(0,m+1,1):\n",
    "        for j in range(0,n+1,1):\n",
    "            if(i==0):\n",
    "                dp[i][j]=j*2\n",
    "            elif (j==0):\n",
    "                dp[i][j]=i*1\n",
    "            elif(a[i-1]==b[j-1]):\n",
    "                dp[i][j]=dp[i-1][j-1]\n",
    "            else:\n",
    "                dp[i][j]=min((1+dp[i-1][j]),(2+dp[i][j-1]),(3+dp[i-1][j-1]))\n",
    "    return dp[m][n]\n",
    "\n",
    "query=input(\"Enter the query \")\n",
    "query=query.lower()\n",
    "k=int(input(\"enter the value of k \"))\n",
    "#query=[]\n",
    "#query=\"anand sharma is the best\"\n",
    "query=query.split()\n",
    "#print(lines)\n",
    "print(query)\n",
    "\n",
    "for i in query:\n",
    "    \n",
    "    if i not in lines:\n",
    "        temp={}\n",
    "        for j in lines:\n",
    "            temp[j]=(edit_distance(j,i,len(j),len(i)))\n",
    "        temp=sorted(temp.items(), key=operator.itemgetter(1))\n",
    "        #outed=dict(itertools.islice(temp.items(),k))\n",
    "        temp1=(temp[:k])\n",
    "        templist=[]\n",
    "        for j in range(0,k,1):\n",
    "            templist.append(temp1[j][0])\n",
    "                \n",
    "        print(templist)\n",
    "        #print(\"final k words are :-\",str(outed))\n",
    "    else:\n",
    "        print(i)\n",
    "\n",
    "\n",
    "\n"
   ]
  },
  {
   "cell_type": "code",
   "execution_count": null,
   "metadata": {},
   "outputs": [],
   "source": []
  }
 ],
 "metadata": {
  "kernelspec": {
   "display_name": "Python 3",
   "language": "python",
   "name": "python3"
  },
  "language_info": {
   "codemirror_mode": {
    "name": "ipython",
    "version": 3
   },
   "file_extension": ".py",
   "mimetype": "text/x-python",
   "name": "python",
   "nbconvert_exporter": "python",
   "pygments_lexer": "ipython3",
   "version": "3.7.3"
  }
 },
 "nbformat": 4,
 "nbformat_minor": 4
}
