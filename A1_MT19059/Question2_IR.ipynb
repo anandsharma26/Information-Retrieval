{
 "cells": [
  {
   "cell_type": "code",
   "execution_count": 6,
   "metadata": {},
   "outputs": [],
   "source": [
    "import os \n",
    "from os import listdir\n",
    "import nltk\n",
    "from nltk import RegexpTokenizer\n",
    "import re\n",
    "import string"
   ]
  },
  {
   "cell_type": "code",
   "execution_count": 7,
   "metadata": {},
   "outputs": [],
   "source": [
    "def getListOfFiles(dirName):\n",
    "    listOfFile = os.listdir(dirName)\n",
    "    allFiles = list()\n",
    "    for entry in listOfFile:\n",
    "        fullPath = os.path.join(dirName, entry)\n",
    "        \n",
    "        if os.path.isdir(fullPath):\n",
    "            allFiles = allFiles + getListOfFiles(fullPath)\n",
    "        else:\n",
    "            allFiles.append(fullPath)\n",
    "                \n",
    "    return allFiles"
   ]
  },
  {
   "cell_type": "code",
   "execution_count": 8,
   "metadata": {
    "scrolled": false
   },
   "outputs": [
    {
     "name": "stdout",
     "output_type": "stream",
     "text": [
      "32183\n"
     ]
    }
   ],
   "source": [
    "path1=\"/home/anand/Desktop/IR_ASSIGNMENT/20_newsgroups/comp.graphics\"\n",
    "path2=\"/home/anand/Desktop/IR_ASSIGNMENT/20_newsgroups/rec.motorcycles\"\n",
    "tokens={}\n",
    "folder_path=[]\n",
    "total_doc_id=[]\n",
    "folder_path=getListOfFiles(path1)\n",
    "folder_path+=(getListOfFiles(path2))\n",
    "#print(len(folder_path))\n",
    "#print(len(folder_path))\n",
    "for i in range(len(folder_path)):\n",
    "    \n",
    "    text=open(folder_path[i],encoding='utf-8',errors='ignore').read()\n",
    "    text=text.lower()\n",
    "    #temp2=re.sub(r'\\d+','',text)\n",
    "    tokenizer=RegexpTokenizer(r'\\w+')\n",
    "    temp1=tokenizer.tokenize(text)\n",
    "    index=folder_path[i].rfind('/')\n",
    "    doc_id=folder_path[i][index+1:len(folder_path[i])]\n",
    "    total_doc_id.append(doc_id)\n",
    "    #print(len(temp1))\n",
    "    #print(doc_id)\n",
    "    #print(temp1)\n",
    "    for count,name in enumerate(temp1):\n",
    "        if name in tokens:\n",
    "            tokens[name][0]=tokens[name][0]+1\n",
    "            if doc_id in tokens[name][1]:\n",
    "                tokens[name][1][doc_id].append(count)\n",
    "            else:\n",
    "                tokens[name][1][doc_id]=[count] \n",
    "        else:\n",
    "            tokens[name]=[]\n",
    "            tokens[name].append(1)\n",
    "            tokens[name].append({})\n",
    "            tokens[name][1][doc_id]=[count]\n",
    "\n",
    "            \n",
    "        \n",
    "        \n",
    "#print((temp1))\n",
    "print(len(tokens))\n",
    "#print(tokens['the'])\n",
    "#print(len(temp1))\n",
    "#print(len(total_doc_id))\n",
    "#print(tokens)\n"
   ]
  },
  {
   "cell_type": "code",
   "execution_count": 11,
   "metadata": {},
   "outputs": [
    {
     "name": "stdout",
     "output_type": "stream",
     "text": [
      "Enter the prase query to be retrievedNever expect or believe\n",
      "['never', 'expect', 'or', 'believe']\n"
     ]
    }
   ],
   "source": [
    "#query_str=\"It is a \"\n",
    "#query_str=\"Presentations are solicited on all\"\n",
    "query_str=input(\"Enter the prase query to be retrieved\")\n",
    "query_str=query_str.lower()\n",
    "query=tokenizer.tokenize(query_str)\n",
    "query=query_str.split()\n",
    "\n",
    "print(query)\n",
    "#print(len(query))"
   ]
  },
  {
   "cell_type": "code",
   "execution_count": 12,
   "metadata": {},
   "outputs": [
    {
     "name": "stdout",
     "output_type": "stream",
     "text": [
      "['72052']\n",
      "1\n"
     ]
    }
   ],
   "source": [
    "#print(total_doc_id)\n",
    "matched_doc_id=[]\n",
    "for i in (total_doc_id):\n",
    "    temp=[]\n",
    "    for j in range(len(query)):\n",
    "        temp.append(tokens[query[j]][1].get(i))\n",
    "    #print(len(temp))\n",
    "    #print(temp[0])\n",
    "    if(temp[0]!=None):\n",
    "        for k in range(0,len(temp[0]),1):\n",
    "            count=0\n",
    "            val=temp[0][k]\n",
    "            for j in range(1,len(query),1):\n",
    "                if((temp[j])!=None):\n",
    "                    if((val+j) in temp[j]):\n",
    "                        count+=1\n",
    "                else :\n",
    "                    continue\n",
    "            if(count==len(query)-1):\n",
    "                matched_doc_id.append(i)\n",
    "                break\n",
    "print(matched_doc_id) \n",
    "print(len(matched_doc_id))"
   ]
  },
  {
   "cell_type": "code",
   "execution_count": null,
   "metadata": {},
   "outputs": [],
   "source": []
  }
 ],
 "metadata": {
  "kernelspec": {
   "display_name": "Python 3",
   "language": "python",
   "name": "python3"
  },
  "language_info": {
   "codemirror_mode": {
    "name": "ipython",
    "version": 3
   },
   "file_extension": ".py",
   "mimetype": "text/x-python",
   "name": "python",
   "nbconvert_exporter": "python",
   "pygments_lexer": "ipython3",
   "version": "3.6.9"
  }
 },
 "nbformat": 4,
 "nbformat_minor": 2
}
