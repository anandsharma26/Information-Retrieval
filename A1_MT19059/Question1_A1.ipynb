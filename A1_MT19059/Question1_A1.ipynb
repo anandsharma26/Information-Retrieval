{
 "cells": [
  {
   "cell_type": "code",
   "execution_count": 7,
   "metadata": {},
   "outputs": [],
   "source": [
    "import os\n",
    "from os import listdir\n",
    "\n",
    "def getListOfFiles(dirName):\n",
    "    listOfFile = os.listdir(dirName)\n",
    "    allFiles = list()\n",
    "    for entry in listOfFile:\n",
    "        fullPath = os.path.join(dirName, entry)\n",
    "        \n",
    "        if os.path.isdir(fullPath):\n",
    "            allFiles = allFiles + getListOfFiles(fullPath)\n",
    "        else:\n",
    "            allFiles.append(fullPath)\n",
    "                \n",
    "    return allFiles\n",
    "\n",
    "\n",
    "path=\"/home/anand/Desktop/IR_ASSIGNMENT/20_newsgroups\"\n",
    "folder_path=getListOfFiles(path)\n",
    "#print((folder_path))\n",
    "#print(\"done\")"
   ]
  },
  {
   "cell_type": "code",
   "execution_count": 8,
   "metadata": {},
   "outputs": [
    {
     "name": "stdout",
     "output_type": "stream",
     "text": [
      "/home/anand/Desktop/IR_ASSIGNMENT/20_newsgroups/comp.sys.mac.hardware/52275\n",
      "19997\n"
     ]
    }
   ],
   "source": [
    "print(folder_path[0])\n",
    "print(len(folder_path))\n",
    "#print(\"done\")"
   ]
  },
  {
   "cell_type": "code",
   "execution_count": 9,
   "metadata": {},
   "outputs": [
    {
     "name": "stdout",
     "output_type": "stream",
     "text": [
      "1719\n"
     ]
    }
   ],
   "source": [
    "i=open(folder_path[0],encoding= 'utf-8',errors='ignore').read()\n",
    "print(len(i))\n",
    "#print(\"done\")"
   ]
  },
  {
   "cell_type": "code",
   "execution_count": 10,
   "metadata": {
    "scrolled": true
   },
   "outputs": [
    {
     "name": "stdout",
     "output_type": "stream",
     "text": [
      "134846\n",
      "134846\n"
     ]
    }
   ],
   "source": [
    "import nltk\n",
    "from nltk.tokenize import RegexpTokenizer\n",
    "from collections import defaultdict\n",
    "import string\n",
    "import re\n",
    "tokens={}\n",
    "frequency={}\n",
    "total_doc_id=[]\n",
    "for i in range(len(folder_path)):\n",
    "    text=open(folder_path[i],encoding= 'utf-8',errors='ignore').read()\n",
    "    text=text.lower()#converting to lower case\n",
    "    temp2=re.sub(r'\\d+','',text)#removing numbers\n",
    "    tokenizer=RegexpTokenizer(r'\\w+')\n",
    "    temp1=tokenizer.tokenize(temp2)\n",
    "    #print(folder_path)\n",
    "    index=folder_path[i].rfind('/')\n",
    "    doc_id=folder_path[i][index+1:len(folder_path[i])]\n",
    "    total_doc_id.append(doc_id)\n",
    "    for j in temp1:\n",
    "        count=0;\n",
    "        if j not in tokens.keys():\n",
    "            tokens[j]=[]\n",
    "            tokens[j].append(doc_id)\n",
    "            frequency[j]=[]\n",
    "            count+=1\n",
    "            frequency[j]=count\n",
    "        else :\n",
    "            count=frequency.get(j)\n",
    "            count+=1\n",
    "            #if doc_id not in tokens[j]:\n",
    "            tokens[j].append(doc_id)\n",
    "            frequency[j]=(count)\n",
    "    #print(tokens)\n",
    "    #print(len(tokens))\n",
    "    \n",
    "    #print(len(frequency))\n",
    "#print(tokens)\n",
    "print(len(tokens))\n",
    "print(len(frequency))\n",
    "#print(\"done\")"
   ]
  },
  {
   "cell_type": "code",
   "execution_count": 11,
   "metadata": {},
   "outputs": [],
   "source": [
    "#query=input(\"Enter your query\")\n",
    "def and_operation(list1,list2,compar):\n",
    "    list1.sort()\n",
    "    list2.sort()\n",
    "    list3=[]\n",
    "    i=0\n",
    "    j=0\n",
    "    while(i<len(list1) and j<len(list2)):\n",
    "        if(list1[i]==list2[j]):\n",
    "            list3.append(list1[i])\n",
    "            i+=1\n",
    "            j+=1\n",
    "        elif (list1[i] < list2[j]):\n",
    "            i+=1\n",
    "        else:\n",
    "            j+=1\n",
    "        compar+=1\n",
    "    return list3,compar\n",
    "    \n",
    "def or_operation(list1,list2,compar):\n",
    "    list1.sort()\n",
    "    list2.sort()\n",
    "    list3=[]\n",
    "    i=0\n",
    "    j=0\n",
    "    while(i<len(list1) and j<len(list2)):\n",
    "        if(list1[i]==list2[j]):\n",
    "            list3.append(list1[i])\n",
    "            i+=1\n",
    "            j+=1\n",
    "        if (list1[i] < list2[j]):\n",
    "            list3.append(list1[i])\n",
    "            i+=1\n",
    "        else:\n",
    "            list3.append(list2[j])\n",
    "            j+=1\n",
    "        compar+=1\n",
    "        if(i==len(list1)):\n",
    "            while(j<len(list2)):\n",
    "                list3.append(list2[j])\n",
    "                j+=1\n",
    "        if (j==len(list2)):\n",
    "            while(i<len(list1)):\n",
    "                list3.append(list1[i])\n",
    "    return list3,compar\n",
    "#print(\"done\")"
   ]
  },
  {
   "cell_type": "code",
   "execution_count": 13,
   "metadata": {
    "scrolled": true
   },
   "outputs": [
    {
     "name": "stdout",
     "output_type": "stream",
     "text": [
      "enter the boolean query to be retrievedtelesoft and SPACE and Systems\n",
      "5\n",
      "NO of DOCUMENTS RETRIEVED 4\n",
      "DOC_ID OF ALL THE DOCS RETRIEVED {'59871', '59904', '59870', '59872'}\n",
      "NO OF COMPARISION PERFORMED  5925\n"
     ]
    }
   ],
   "source": [
    "#query_str=\"not srv and srv and not srv and not nikunj or srv\"\n",
    "#query_str=\"a and b and c and d or e or f and h and k\"\n",
    "#query_str=\"i or just and recently and that or not see and not am or bisexual or also and returned and not pointed\"\n",
    "query_str=input(\"enter the boolean query to be retrieved\")\n",
    "query_str=re.sub(r'\\d+','',query_str)\n",
    "query_str=query_str.lower()\n",
    "#query_str=\"not zola and esd and sgi or scale and width\"\n",
    "#query_str=\"the and not has or not aslo and srv and is or  the\"\n",
    "query=query_str.split()\n",
    "print(len(query))\n",
    "#NOT OPERATION FUNCTION\n",
    "i=0\n",
    "while i<(len(query)-1):\n",
    "    if (query[i].lower()!='and' and query[i].lower()!='or'):\n",
    "        if(query[i]=='not'):\n",
    "            if(not(query[i+1]in tokens)):\n",
    "                tokens[query[i+1]]=set()\n",
    "            query[i]=(set(total_doc_id)-set(tokens.get(query[i+1])))\n",
    "            query.pop(i+1)\n",
    "        \n",
    "            #query[i]=(tokens.get(query[i]))\n",
    "    i+=1\n",
    "#query[len(query)-1]=tokens.get(query[i])\n",
    "#print (query)\n",
    "#print(len(query))\n",
    "#AND OPTIMIZATION OPERATOR fUNCTION\n",
    "i=1\n",
    "count=0\n",
    "templist=[]\n",
    "templist_index=[]\n",
    "while i<(len(query)):\n",
    "    \n",
    "    if(query[i]=='and'):\n",
    "        count+=1\n",
    "        templist.append(query[i-1])\n",
    "        templist_index.append(i-1)\n",
    "    if((query[i]=='or' or i==len(query)-1) and count>=1):\n",
    "        templist.append(query[i-1])\n",
    "        templist_index.append(i-1)\n",
    "        templist.sort(key=lambda j:frequency[j] if type(j) is str else len(j))\n",
    "        l=0\n",
    "        for k in templist_index:\n",
    "            query[k]=templist[l]\n",
    "            l+=1\n",
    "        count=0;\n",
    "        #print(templist)\n",
    "        templist.clear()\n",
    "        templist_index.clear()\n",
    "    \n",
    "    i+=1\n",
    "# if(query[len(query)-2]=='and'):\n",
    "#     templist.append(query[len(query)-1])\n",
    "\n",
    "#print(query)   \n",
    "#print(len(query))\n",
    "#AND OPERATOR FUNCTION\n",
    "no_of_comparision=0\n",
    "i=1\n",
    "while i<(len(query)-1):\n",
    "    if(query[i]=='and'):\n",
    "        if (type(query[i-1])==str):\n",
    "            query[i-1]=tokens.get(query[i-1])\n",
    "        if (type(query[i+1])==str):\n",
    "            query[i+1]=tokens.get(query[i+1])\n",
    "        temp,cont=(and_operation(list(query[i-1]),list(query[i+1]),0))\n",
    "        no_of_comparision+=cont\n",
    "        temp=set(temp)\n",
    "        query[i-1]=temp\n",
    "        query.pop(i)\n",
    "        query.pop(i)\n",
    "    else :\n",
    "        i+=1\n",
    "#print(query)\n",
    "#print(len(query))\n",
    "#OR OPERATOR FUNCTION\n",
    "i=1\n",
    "while i<(len(query)-1):\n",
    "    if(query[i]=='or'):\n",
    "        if (type(query[i-1])==str):\n",
    "            query[i-1]=tokens.get(query[i-1])\n",
    "        if (type(query[i+1])==str):\n",
    "            query[i+1]=tokens.get(query[i+1])\n",
    "        temp,cont=(or_operation(list(query[i-1]),list(query[i+1]),0))\n",
    "        temp=set(temp)\n",
    "        no_of_comparision+=cont\n",
    "        query[i-1]=temp\n",
    "        query.pop(i)\n",
    "        query.pop(i)\n",
    "    else :\n",
    "        i+=1\n",
    "#print(query)\n",
    "#print(len(query))\n",
    "print(\"NO of DOCUMENTS RETRIEVED\",len(query[0]))\n",
    "print(\"DOC_ID OF ALL THE DOCS RETRIEVED\",(query[0]))\n",
    "print(\"NO OF COMPARISION PERFORMED \",no_of_comparision)"
   ]
  },
  {
   "cell_type": "code",
   "execution_count": null,
   "metadata": {},
   "outputs": [],
   "source": []
  }
 ],
 "metadata": {
  "kernelspec": {
   "display_name": "Python 3",
   "language": "python",
   "name": "python3"
  },
  "language_info": {
   "codemirror_mode": {
    "name": "ipython",
    "version": 3
   },
   "file_extension": ".py",
   "mimetype": "text/x-python",
   "name": "python",
   "nbconvert_exporter": "python",
   "pygments_lexer": "ipython3",
   "version": "3.6.9"
  }
 },
 "nbformat": 4,
 "nbformat_minor": 2
}
