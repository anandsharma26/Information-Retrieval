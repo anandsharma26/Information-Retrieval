{
 "cells": [
  {
   "cell_type": "code",
   "execution_count": 1,
   "metadata": {},
   "outputs": [],
   "source": [
    "import numpy as np\n",
    "import math\n",
    "import nltk\n",
    "import matplotlib.pyplot as plt\n"
   ]
  },
  {
   "cell_type": "code",
   "execution_count": null,
   "metadata": {},
   "outputs": [],
   "source": []
  },
  {
   "cell_type": "code",
   "execution_count": 36,
   "metadata": {},
   "outputs": [
    {
     "name": "stdout",
     "output_type": "stream",
     "text": [
      "103\n"
     ]
    }
   ],
   "source": [
    "qid = []\n",
    "f=open(\"IR-assignment-3-data.txt\",'r')\n",
    "total = 0\n",
    "relevance_score={}\n",
    "ind=0\n",
    "for i in f.readlines():\n",
    "    #print(i)\n",
    "    p = i.split(\" \")\n",
    "    \n",
    "    if p[1] == 'qid:4':\n",
    "        relevance_score[ind]=p[0]\n",
    "        ind+=1\n",
    "        if int(i.split(\" \")[0]) > 0:\n",
    "            qid.append([1, float(i.split(\" \")[76].split(\":\")[1])])\n",
    "            total += 1\n",
    "        else:\n",
    "            qid.append([0, float(i.split(\" \")[76].split(\":\")[1])])\n",
    "    else:\n",
    "        continue\n",
    "        \n",
    "relevance_score={key:val for key,val in relevance_score.items() }\n",
    "relevance_score1=relevance_score\n",
    "print(ind)\n",
    "#print(relevance_score)"
   ]
  },
  {
   "cell_type": "code",
   "execution_count": 37,
   "metadata": {},
   "outputs": [],
   "source": [
    "relevance_score1=dict(sorted(relevance_score1.items(),key=lambda kv:kv[1],reverse=True))\n",
    "#print(relevance_score1)"
   ]
  },
  {
   "cell_type": "code",
   "execution_count": 38,
   "metadata": {},
   "outputs": [],
   "source": [
    "def DCG(relevance_score):\n",
    "    maxscore=0\n",
    "    for i in range (1,len(relevance_score),1):\n",
    "        maxscore+=(float(relevance_score[i-1])/(math.log((i+1),2)))\n",
    "    print(maxscore)\n",
    "    return float(maxscore)"
   ]
  },
  {
   "cell_type": "code",
   "execution_count": 41,
   "metadata": {
    "scrolled": true
   },
   "outputs": [
    {
     "name": "stdout",
     "output_type": "stream",
     "text": [
      "12.337484420604602\n",
      "19.407247618668023\n",
      "0.6357153091990775\n",
      "[59, 26, 17, 1, 0]\n"
     ]
    }
   ],
   "source": [
    "rel_list=[]\n",
    "rel_list_sorted=[]\n",
    "rel_unique=[0]*5\n",
    "\n",
    "for i in relevance_score.keys():\n",
    "    rel_list.append(relevance_score[i])\n",
    "    if(relevance_score[i]=='0'):\n",
    "        rel_unique[0]+=1\n",
    "    if(relevance_score[i]=='1'):\n",
    "        rel_unique[1]+=1\n",
    "    if(relevance_score[i]=='2'):\n",
    "        rel_unique[2]+=1\n",
    "    if(relevance_score[i]=='3'):\n",
    "        rel_unique[3]+=1\n",
    "    if (relevance_score[i]=='4'):\n",
    "        rel_unique[4]+=1\n",
    "  \n",
    "\n",
    "for i in relevance_score1.keys():\n",
    "    rel_list_sorted.append(relevance_score1[i])\n",
    "\n",
    "dcg=DCG(rel_list)\n",
    "idcg=DCG(rel_list_sorted)\n",
    "ndcg=dcg/idcg\n",
    "print(ndcg)\n",
    "print(rel_unique)"
   ]
  },
  {
   "cell_type": "code",
   "execution_count": 25,
   "metadata": {
    "scrolled": false
   },
   "outputs": [],
   "source": [
    "\n",
    "f=open(\"IR-assignment-3-data.txt\",'r')\n",
    "output_file=open(\"output_file_url.txt\",\"w\")\n",
    "cnt=0\n",
    "for i in f.readlines():\n",
    "    #print(i)\n",
    "    if cnt in relevance_score.keys():\n",
    "        output_file.writelines(i)\n",
    "    cnt+=1\n",
    "    "
   ]
  },
  {
   "cell_type": "code",
   "execution_count": 10,
   "metadata": {},
   "outputs": [
    {
     "name": "stdout",
     "output_type": "stream",
     "text": [
      "[[0, 972.826451], [0, 612.893205], [0, 571.500533], [0, 538.388954], [1, 528.520116], [0, 463.099129], [1, 439.396463], [1, 411.010633], [0, 316.319283], [1, 311.705149], [0, 305.102064], [1, 296.023694], [1, 292.184568], [1, 270.13233], [1, 237.21632], [1, 237.21632], [0, 226.444023], [1, 217.848266], [0, 212.401296], [1, 202.442155], [0, 201.720933], [1, 200.840161], [0, 200.840161], [1, 198.480212], [1, 192.953467], [1, 188.936782], [0, 188.129935], [0, 187.934366], [0, 186.375414], [0, 185.617459], [0, 180.720002], [1, 180.24324], [0, 177.168378], [1, 176.875026], [0, 176.000104], [0, 169.844071], [1, 166.683125], [1, 161.455583], [0, 161.455583], [1, 161.15638], [1, 157.05992], [1, 156.301965], [0, 148.415271], [0, 148.415271], [0, 144.564444], [0, 143.769297], [1, 143.445062], [0, 142.9683], [1, 142.589323], [0, 142.589323], [1, 142.038637], [1, 140.479685], [0, 130.655061], [1, 121.96152], [1, 121.814843], [0, 121.007996], [1, 108.548081], [1, 103.400313], [0, 98.418404], [1, 98.148911], [0, 95.257458], [0, 95.257458], [1, 94.958714], [0, 91.717534], [0, 91.160998], [0, 90.53171], [1, 89.877389], [0, 88.171761], [1, 85.805962], [0, 85.634253], [1, 84.625987], [0, 84.625987], [1, 84.625987], [0, 84.625987], [1, 84.625987], [0, 84.625987], [0, 84.625987], [1, 81.947653], [1, 81.140806], [1, 81.140806], [0, 79.630746], [1, 77.167163], [0, 76.360315], [0, 75.987188], [0, 74.434086], [0, 73.279603], [0, 71.646268], [0, 70.466293], [0, 70.460443], [1, 69.811973], [0, 68.100494], [0, 43.297629], [1, 42.227139], [0, 22.480108], [0, 22.419515], [0, 19.313312], [0, 18.133337], [1, 18.133337], [0, 15.773388], [0, 14.972391], [0, 14.972391], [0, 3.539923], [0, 3.539923]]\n"
     ]
    }
   ],
   "source": [
    "qid=sorted(qid,key=lambda x:x[1],reverse=True)\n",
    "print(qid)\n",
    "count = 1\n",
    "\n",
    "precision = []\n",
    "recall = []\n",
    "\n",
    "classified = 0\n",
    "\n",
    "for i in [m[0] for m in qid]:\n",
    "    precision.append(classified/count)\n",
    "    recall.append(classified/total)\n",
    "    if i == 1:\n",
    "        classified += 1\n",
    "    count += 1"
   ]
  },
  {
   "cell_type": "code",
   "execution_count": 11,
   "metadata": {},
   "outputs": [
    {
     "data": {
      "image/png": "[encoded data removed]",
      "text/plain": [
       "<Figure size 432x288 with 1 Axes>"
      ]
     },
     "metadata": {
      "needs_background": "light"
     },
     "output_type": "display_data"
    }
   ],
   "source": [
    "\n",
    "plt.xlabel('Precision')\n",
    "plt.ylabel('Recall')\n",
    "plt.title('Precision-Recall Curve')\n",
    "plt.plot(recall, precision)\n",
    "plt.show()"
   ]
  },
  {
   "cell_type": "code",
   "execution_count": null,
   "metadata": {},
   "outputs": [],
   "source": []
  }
 ],
 "metadata": {
  "kernelspec": {
   "display_name": "Python 3",
   "language": "python",
   "name": "python3"
  },
  "language_info": {
   "codemirror_mode": {
    "name": "ipython",
    "version": 3
   },
   "file_extension": ".py",
   "mimetype": "text/x-python",
   "name": "python",
   "nbconvert_exporter": "python",
   "pygments_lexer": "ipython3",
   "version": "3.7.3"
  }
 },
 "nbformat": 4,
 "nbformat_minor": 4
}
